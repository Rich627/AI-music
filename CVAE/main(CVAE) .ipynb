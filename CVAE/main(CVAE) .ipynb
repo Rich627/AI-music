{
 "cells": [
  {
   "cell_type": "code",
   "execution_count": 245,
   "metadata": {},
   "outputs": [
    {
     "data": {
      "text/plain": [
       "(2599480, 2)"
      ]
     },
     "execution_count": 245,
     "metadata": {},
     "output_type": "execute_result"
    }
   ],
   "source": [
    "import pretty_midi\n",
    "import numpy as np\n",
    "import glob\n",
    "import mido\n",
    "import os\n",
    "import tensorflow as tf\n",
    "import random\n",
    "\n",
    "notes_array = np.load('/Users/rich/Desktop/AI-music/NumpyArray/notes_array.npy')\n",
    "velocities_array = np.load('/Users/rich/Desktop/AI-music/NumpyArray/velocities_array.npy')\n",
    "\n",
    "#normalize\n",
    "#帶來以下好處:\n",
    "#1. 處理不同尺度的數據\n",
    "#2. 加快模型收斂速度\n",
    "\n",
    "#change shape\n",
    "notes_normalized = notes_array.reshape(-1, 1) / int(notes_array.max())\n",
    "velocities_normalized = velocities_array.reshape(-1, 1) / float(velocities_array.max())\n",
    "\n",
    "# combine notes and velocities\n",
    "combined_data = np.concatenate((notes_normalized, velocities_normalized), axis=1)\n",
    "combined_data.shape"
   ]
  },
  {
   "cell_type": "code",
   "execution_count": 246,
   "metadata": {},
   "outputs": [],
   "source": [
    "sequence_length = 10\n",
    "inputs = []\n",
    "targets = []\n",
    "\n",
    "for i in range(len(combined_data) - sequence_length):\n",
    "    inputs.append(combined_data[i:i+sequence_length])\n",
    "    targets.append(combined_data[i+sequence_length])\n",
    "\n",
    "inputs = random.sample(inputs, 1000)\n",
    "targets = random.sample(targets, 1000)\n",
    "#split data\n",
    "split_index = int(0.7 * len(inputs)) \n",
    "\n",
    "train_inputs = np.array(inputs[:split_index])\n",
    "train_targets = np.array(targets[:split_index])\n",
    "\n",
    "test_inputs = np.array(inputs[split_index:])\n",
    "test_targets = np.array(targets[split_index:])"
   ]
  },
  {
   "cell_type": "code",
   "execution_count": 247,
   "metadata": {},
   "outputs": [
    {
     "data": {
      "text/plain": [
       "(1000, 1000)"
      ]
     },
     "execution_count": 247,
     "metadata": {},
     "output_type": "execute_result"
    }
   ],
   "source": [
    "len(inputs), len(targets)"
   ]
  },
  {
   "cell_type": "code",
   "execution_count": 248,
   "metadata": {},
   "outputs": [
    {
     "data": {
      "text/plain": [
       "array([[[0.32283465, 0.88976378],\n",
       "        [0.47244094, 0.7007874 ],\n",
       "        [0.53543307, 0.83464567],\n",
       "        ...,\n",
       "        [0.47244094, 0.73228346],\n",
       "        [0.33858268, 0.83464567],\n",
       "        [0.33858268, 0.71653543]],\n",
       "\n",
       "       [[0.42519685, 0.28346457],\n",
       "        [0.42519685, 0.28346457],\n",
       "        [0.64566929, 0.28346457],\n",
       "        ...,\n",
       "        [0.54330709, 0.37795276],\n",
       "        [0.48818898, 0.56692913],\n",
       "        [0.30708661, 0.51968504]],\n",
       "\n",
       "       [[0.28346457, 1.        ],\n",
       "        [0.33070866, 0.68503937],\n",
       "        [0.54330709, 0.37007874],\n",
       "        ...,\n",
       "        [0.54330709, 0.37007874],\n",
       "        [0.2992126 , 1.        ],\n",
       "        [0.33070866, 0.68503937]],\n",
       "\n",
       "       ...,\n",
       "\n",
       "       [[0.5511811 , 0.25984252],\n",
       "        [0.54330709, 0.40944882],\n",
       "        [0.5511811 , 0.44094488],\n",
       "        ...,\n",
       "        [0.5511811 , 0.16535433],\n",
       "        [0.54330709, 0.22834646],\n",
       "        [0.5511811 , 0.25984252]],\n",
       "\n",
       "       [[0.52755906, 0.51181102],\n",
       "        [0.55905512, 0.72440945],\n",
       "        [0.5984252 , 0.67716535],\n",
       "        ...,\n",
       "        [0.5984252 , 0.90551181],\n",
       "        [0.66141732, 0.82677165],\n",
       "        [0.65354331, 0.78740157]],\n",
       "\n",
       "       [[0.4488189 , 0.78740157],\n",
       "        [0.4488189 , 0.5511811 ],\n",
       "        [0.46456693, 0.47244094],\n",
       "        ...,\n",
       "        [0.4488189 , 0.90551181],\n",
       "        [0.34645669, 0.62992126],\n",
       "        [0.4488189 , 0.62992126]]])"
      ]
     },
     "execution_count": 248,
     "metadata": {},
     "output_type": "execute_result"
    }
   ],
   "source": [
    "train_inputs"
   ]
  },
  {
   "cell_type": "code",
   "execution_count": 249,
   "metadata": {},
   "outputs": [],
   "source": [
    "class CVAE(tf.keras.Model):\n",
    "    def __init__(self, latent_dim):\n",
    "        super(CVAE, self).__init__()\n",
    "        self.latent_dim = latent_dim\n",
    "        self.encoder = tf.keras.Sequential([\n",
    "            tf.keras.layers.InputLayer(input_shape=(train_inputs.shape[1], train_inputs.shape[2])),\n",
    "            tf.keras.layers.LSTM(64, return_sequences=True),\n",
    "            tf.keras.layers.BatchNormalization(),\n",
    "            tf.keras.layers.LSTM(32),\n",
    "            tf.keras.layers.BatchNormalization(),\n",
    "            tf.keras.layers.Dense(16, activation='relu'),\n",
    "            tf.keras.layers.Dense(latent_dim * 2)  \n",
    "        ])\n",
    "\n",
    "        self.decoder = tf.keras.Sequential([\n",
    "            tf.keras.layers.InputLayer(input_shape=(latent_dim,)),\n",
    "            tf.keras.layers.RepeatVector(train_inputs.shape[1]),  \n",
    "            tf.keras.layers.LSTM(32, return_sequences=True),\n",
    "            tf.keras.layers.BatchNormalization(),\n",
    "            tf.keras.layers.LSTM(64, return_sequences=True),\n",
    "            tf.keras.layers.BatchNormalization(),\n",
    "            tf.keras.layers.Dense(train_inputs.shape[2]) \n",
    "        ])\n",
    "\n",
    "    @tf.function\n",
    "    def sample(self, eps=None):\n",
    "        if eps is None:\n",
    "            eps = tf.random.normal(shape=(10, self.latent_dim))\n",
    "        return self.decode(eps, apply_sigmoid=True)\n",
    "\n",
    "    def encode(self, x):\n",
    "        mean, logvar = tf.split(self.encoder(x), num_or_size_splits=2, axis=1)\n",
    "        return mean, logvar\n",
    "\n",
    "    def reparameterize(self, mean, logvar):\n",
    "        eps = tf.random.normal(shape=mean.shape)\n",
    "        return eps * tf.exp(logvar * .5) + mean\n",
    "\n",
    "    def decode(self, z, apply_sigmoid=False):\n",
    "        logits = self.decoder(z)\n",
    "        if apply_sigmoid:\n",
    "            probs = tf.sigmoid(logits)\n",
    "            return probs\n",
    "        return logits\n",
    "\n",
    "optimizer = tf.keras.optimizers.legacy.Adam()\n",
    "\n",
    "def log_normal_pdf(sample, mean, logvar, raxis=1):\n",
    "    log2pi = tf.math.log(2. * np.pi)\n",
    "    return tf.reduce_sum(\n",
    "        -.5 * ((sample - mean) ** 2. * tf.exp(-logvar) + logvar + log2pi),\n",
    "        axis=raxis)\n",
    "\n",
    "def compute_loss(model, x):\n",
    "    mean, logvar = model.encode(x)\n",
    "    z = model.reparameterize(mean, logvar)\n",
    "    x_logit = model.decode(z)\n",
    "    cross_ent = tf.nn.sigmoid_cross_entropy_with_logits(logits=x_logit, labels=x)\n",
    "    logpx_z = -tf.reduce_sum(cross_ent, axis=[1, 2])\n",
    "    logpz = log_normal_pdf(z, 0., 0.)\n",
    "    logqz_x = log_normal_pdf(z, mean, logvar)\n",
    "    return -tf.reduce_mean(logpx_z + logpz - logqz_x)\n",
    "\n",
    "@tf.function\n",
    "def train_step(inputs, targets, model, optimizer):\n",
    "    batch_inputs = tf.cast(inputs, dtype=tf.float32)\n",
    "    batch_targets = tf.cast(targets, dtype=tf.float32)\n",
    "    with tf.GradientTape() as tape:\n",
    "        loss = compute_loss(model, batch_inputs)\n",
    "    gradients = tape.gradient(loss, model.trainable_variables)\n",
    "    optimizer.apply_gradients(zip(gradients, model.trainable_variables))\n",
    "    return loss\n",
    "\n",
    "\n",
    "epochs = 3\n",
    "latent_dim = 2\n",
    "num_examples_to_generate = 1\n",
    "losses = []\n",
    "\n",
    "random_vector_for_generation = [[random.random() for _ in range(latent_dim)] for _ in range(num_examples_to_generate)]\n",
    "\n",
    "# 將random_vector_for_generation轉換為Tensor並指定形狀為(5, 2)\n",
    "random_vector_for_generation = tf.convert_to_tensor(random_vector_for_generation, dtype=tf.float32)\n",
    "random_vector_for_generation = tf.reshape(random_vector_for_generation, shape=(num_examples_to_generate, latent_dim))\n",
    "\n",
    "model = CVAE(latent_dim)"
   ]
  },
  {
   "cell_type": "code",
   "execution_count": 250,
   "metadata": {},
   "outputs": [
    {
     "data": {
      "text/plain": [
       "<tf.Tensor: shape=(1, 2), dtype=float32, numpy=array([[0.74458504, 0.9192963 ]], dtype=float32)>"
      ]
     },
     "execution_count": 250,
     "metadata": {},
     "output_type": "execute_result"
    }
   ],
   "source": [
    "random_vector_for_generation "
   ]
  },
  {
   "cell_type": "code",
   "execution_count": 251,
   "metadata": {},
   "outputs": [
    {
     "name": "stderr",
     "output_type": "stream",
     "text": [
      "2023-07-23 15:38:25.168896: I tensorflow/core/grappler/optimizers/custom_graph_optimizer_registry.cc:114] Plugin optimizer for device_type GPU is enabled.\n",
      "2023-07-23 15:38:25.633276: I tensorflow/core/grappler/optimizers/custom_graph_optimizer_registry.cc:114] Plugin optimizer for device_type GPU is enabled.\n",
      "2023-07-23 15:38:25.881285: I tensorflow/core/grappler/optimizers/custom_graph_optimizer_registry.cc:114] Plugin optimizer for device_type GPU is enabled.\n",
      "2023-07-23 15:38:26.135327: I tensorflow/core/grappler/optimizers/custom_graph_optimizer_registry.cc:114] Plugin optimizer for device_type GPU is enabled.\n",
      "2023-07-23 15:38:26.293520: I tensorflow/core/grappler/optimizers/custom_graph_optimizer_registry.cc:114] Plugin optimizer for device_type GPU is enabled.\n",
      "2023-07-23 15:38:26.648439: I tensorflow/core/grappler/optimizers/custom_graph_optimizer_registry.cc:114] Plugin optimizer for device_type GPU is enabled.\n",
      "2023-07-23 15:38:26.937003: I tensorflow/core/grappler/optimizers/custom_graph_optimizer_registry.cc:114] Plugin optimizer for device_type GPU is enabled.\n",
      "2023-07-23 15:38:27.317303: I tensorflow/core/grappler/optimizers/custom_graph_optimizer_registry.cc:114] Plugin optimizer for device_type GPU is enabled.\n",
      "2023-07-23 15:38:27.524066: I tensorflow/core/grappler/optimizers/custom_graph_optimizer_registry.cc:114] Plugin optimizer for device_type GPU is enabled.\n",
      "2023-07-23 15:38:29.958778: I tensorflow/core/grappler/optimizers/custom_graph_optimizer_registry.cc:114] Plugin optimizer for device_type GPU is enabled.\n",
      "2023-07-23 15:38:30.427379: I tensorflow/core/grappler/optimizers/custom_graph_optimizer_registry.cc:114] Plugin optimizer for device_type GPU is enabled.\n",
      "2023-07-23 15:38:30.604697: I tensorflow/core/grappler/optimizers/custom_graph_optimizer_registry.cc:114] Plugin optimizer for device_type GPU is enabled.\n",
      "2023-07-23 15:38:30.890622: I tensorflow/core/grappler/optimizers/custom_graph_optimizer_registry.cc:114] Plugin optimizer for device_type GPU is enabled.\n",
      "2023-07-23 15:38:31.045219: I tensorflow/core/grappler/optimizers/custom_graph_optimizer_registry.cc:114] Plugin optimizer for device_type GPU is enabled.\n",
      "2023-07-23 15:38:31.492114: I tensorflow/core/grappler/optimizers/custom_graph_optimizer_registry.cc:114] Plugin optimizer for device_type GPU is enabled.\n",
      "2023-07-23 15:38:31.790166: I tensorflow/core/grappler/optimizers/custom_graph_optimizer_registry.cc:114] Plugin optimizer for device_type GPU is enabled.\n",
      "2023-07-23 15:38:32.156527: I tensorflow/core/grappler/optimizers/custom_graph_optimizer_registry.cc:114] Plugin optimizer for device_type GPU is enabled.\n",
      "2023-07-23 15:38:32.563250: I tensorflow/core/grappler/optimizers/custom_graph_optimizer_registry.cc:114] Plugin optimizer for device_type GPU is enabled.\n"
     ]
    },
    {
     "name": "stdout",
     "output_type": "stream",
     "text": [
      "Epoch 1 Loss: 13.628186\n",
      "Epoch 2 Loss: 13.193670\n",
      "Epoch 3 Loss: 13.091020\n"
     ]
    }
   ],
   "source": [
    "train_dataset = tf.data.Dataset.from_tensor_slices((train_inputs, train_targets)).shuffle(len(train_inputs)).batch(64)\n",
    "\n",
    "for epoch in range(epochs):\n",
    "    epoch_loss = 0\n",
    "    num_batches = 0\n",
    "    for batch_inputs, batch_targets in train_dataset:\n",
    "        batch_loss = train_step(batch_inputs, batch_targets, model, optimizer)\n",
    "        epoch_loss += batch_loss\n",
    "        num_batches += 1\n",
    "        \n",
    "    avg_loss = epoch_loss / num_batches\n",
    "    print('Epoch {} Loss: {:.6f}'.format(epoch + 1, avg_loss))\n",
    "    losses.append(avg_loss)"
   ]
  },
  {
   "cell_type": "code",
   "execution_count": 252,
   "metadata": {},
   "outputs": [
    {
     "data": {
      "image/png": "[encoded data removed]",
      "text/plain": [
       "<Figure size 640x480 with 1 Axes>"
      ]
     },
     "metadata": {
      "image/png": {
       "height": 454,
       "width": 576
      }
     },
     "output_type": "display_data"
    }
   ],
   "source": [
    "#plot loss\n",
    "import matplotlib.pyplot as plt\n",
    "\n",
    "plt.plot(losses)\n",
    "plt.title('Training Loss')\n",
    "plt.xlabel('Epoch')\n",
    "plt.ylabel('Loss')\n",
    "plt.show()"
   ]
  },
  {
   "cell_type": "code",
   "execution_count": 253,
   "metadata": {},
   "outputs": [
    {
     "name": "stderr",
     "output_type": "stream",
     "text": [
      "2023-07-23 15:38:34.662169: I tensorflow/core/grappler/optimizers/custom_graph_optimizer_registry.cc:114] Plugin optimizer for device_type GPU is enabled.\n",
      "2023-07-23 15:38:34.754313: I tensorflow/core/grappler/optimizers/custom_graph_optimizer_registry.cc:114] Plugin optimizer for device_type GPU is enabled.\n",
      "2023-07-23 15:38:34.895987: I tensorflow/core/grappler/optimizers/custom_graph_optimizer_registry.cc:114] Plugin optimizer for device_type GPU is enabled.\n"
     ]
    }
   ],
   "source": [
    "from music21 import stream, note, tempo\n",
    "\n",
    "generated_samples = model.sample(random_vector_for_generation)\n",
    "generated_samples_denormalized = generated_samples * np.array([notes_array.max(), velocities_array.max()])\n",
    "generated_samples_denormalized = np.round(generated_samples_denormalized, 0)\n",
    "\n",
    "for i in range(generated_samples_denormalized.shape[0]):\n",
    "    generated_sequence = generated_samples_denormalized[i]\n",
    "    \n",
    "    music_stream = stream.Stream()\n",
    "    \n",
    "    for note_data in generated_sequence:\n",
    "        new_note = note.Note()\n",
    "        new_note.pitch.midi = int(note_data[0])\n",
    "        new_note.volume.velocity = int(note_data[1])\n",
    "        music_stream.append(new_note)\n",
    "        \n",
    "    path = '/Users/rich/Desktop/AI-Music/Generated_Music/CVAE'\n",
    "    music_stream.write('midi', fp=path + 'generated_music_{}.mid'.format(i))\n"
   ]
  },
  {
   "cell_type": "code",
   "execution_count": 254,
   "metadata": {},
   "outputs": [
    {
     "data": {
      "text/plain": [
       "<tf.Tensor: shape=(1, 10, 2), dtype=float32, numpy=\n",
       "array([[[0.47066376, 0.59233844],\n",
       "        [0.46491134, 0.61481196],\n",
       "        [0.46005884, 0.6346299 ],\n",
       "        [0.4559953 , 0.6518023 ],\n",
       "        [0.45262584, 0.66651   ],\n",
       "        [0.4498639 , 0.6790086 ],\n",
       "        [0.44762954, 0.68957317],\n",
       "        [0.4458489 , 0.6984695 ],\n",
       "        [0.44445452, 0.70594066],\n",
       "        [0.4433852 , 0.71220183]]], dtype=float32)>"
      ]
     },
     "execution_count": 254,
     "metadata": {},
     "output_type": "execute_result"
    }
   ],
   "source": [
    "generated_samples"
   ]
  },
  {
   "cell_type": "code",
   "execution_count": 255,
   "metadata": {},
   "outputs": [
    {
     "data": {
      "text/plain": [
       "array([[[60., 75.],\n",
       "        [59., 78.],\n",
       "        [58., 81.],\n",
       "        [58., 83.],\n",
       "        [57., 85.],\n",
       "        [57., 86.],\n",
       "        [57., 88.],\n",
       "        [57., 89.],\n",
       "        [56., 90.],\n",
       "        [56., 90.]]], dtype=float32)"
      ]
     },
     "execution_count": 255,
     "metadata": {},
     "output_type": "execute_result"
    }
   ],
   "source": [
    "generated_samples_denormalized"
   ]
  }
 ],
 "metadata": {
  "kernelspec": {
   "display_name": "tensorflow",
   "language": "python",
   "name": "python3"
  },
  "language_info": {
   "codemirror_mode": {
    "name": "ipython",
    "version": 3
   },
   "file_extension": ".py",
   "mimetype": "text/x-python",
   "name": "python",
   "nbconvert_exporter": "python",
   "pygments_lexer": "ipython3",
   "version": "3.10.12"
  }
 },
 "nbformat": 4,
 "nbformat_minor": 2
}
