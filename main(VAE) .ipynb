{
 "cells": [
  {
   "cell_type": "code",
   "execution_count": 1,
   "metadata": {},
   "outputs": [
    {
     "data": {
      "text/plain": [
       "(2599480, 2)"
      ]
     },
     "execution_count": 1,
     "metadata": {},
     "output_type": "execute_result"
    }
   ],
   "source": [
    "import pretty_midi\n",
    "import numpy as np\n",
    "import glob\n",
    "import mido\n",
    "import os\n",
    "\n",
    "notes_array = np.load('notes_array.npy')\n",
    "velocities_array = np.load('velocities_array.npy')\n",
    "\n",
    "#normalize\n",
    "#帶來以下好處:\n",
    "#1. 處理不同尺度的數據\n",
    "#2. 加快模型收斂速度\n",
    "\n",
    "#change shape\n",
    "notes_normalized = notes_array.reshape(-1, 1) / int(notes_array.max())\n",
    "velocities_normalized = velocities_array.reshape(-1, 1) / float(velocities_array.max())\n",
    "\n",
    "# combine notes and velocities\n",
    "combined_data = np.concatenate((notes_normalized, velocities_normalized), axis=1)\n",
    "combined_data.shape"
   ]
  },
  {
   "cell_type": "code",
   "execution_count": 2,
   "metadata": {},
   "outputs": [],
   "source": [
    "sequence_length = 5\n",
    "inputs = []\n",
    "targets = []\n",
    "\n",
    "for i in range(len(combined_data) - sequence_length):\n",
    "    inputs.append(combined_data[i:i+sequence_length])\n",
    "    targets.append(combined_data[i+sequence_length])\n",
    "\n",
    "\n",
    "#split data\n",
    "split_index = int(0.8 * len(inputs)) \n",
    "\n",
    "train_inputs = np.array(inputs[:split_index])\n",
    "train_targets = np.array(targets[:split_index])\n",
    "\n",
    "test_inputs = np.array(inputs[split_index:])\n",
    "test_targets = np.array(targets[split_index:])"
   ]
  },
  {
   "cell_type": "code",
   "execution_count": 3,
   "metadata": {},
   "outputs": [
    {
     "data": {
      "text/plain": [
       "(2599475, 2599475)"
      ]
     },
     "execution_count": 3,
     "metadata": {},
     "output_type": "execute_result"
    }
   ],
   "source": [
    "len(inputs), len(targets)"
   ]
  },
  {
   "cell_type": "code",
   "execution_count": 4,
   "metadata": {},
   "outputs": [
    {
     "data": {
      "text/plain": [
       "((2079580, 5, 2), (2079580, 2), (519895, 5, 2), (519895, 2))"
      ]
     },
     "execution_count": 4,
     "metadata": {},
     "output_type": "execute_result"
    }
   ],
   "source": [
    "train_inputs.shape, train_targets.shape, test_inputs.shape, test_targets.shape"
   ]
  },
  {
   "cell_type": "code",
   "execution_count": 5,
   "metadata": {},
   "outputs": [
    {
     "name": "stderr",
     "output_type": "stream",
     "text": [
      "2023-07-03 04:43:47.407398: W tensorflow/tsl/platform/profile_utils/cpu_utils.cc:128] Failed to get CPU frequency: 0 Hz\n"
     ]
    },
    {
     "name": "stdout",
     "output_type": "stream",
     "text": [
      "Epoch 1 Loss: 6.504933\n",
      "Epoch 2 Loss: 6.504521\n",
      "Epoch 3 Loss: 6.504414\n",
      "Epoch 4 Loss: 6.504389\n",
      "Epoch 5 Loss: 6.504351\n",
      "Epoch 6 Loss: 6.504322\n",
      "Epoch 7 Loss: 6.504290\n",
      "Epoch 8 Loss: 6.504308\n",
      "Epoch 9 Loss: 6.504269\n",
      "Epoch 10 Loss: 6.504272\n",
      "Epoch 11 Loss: 6.504237\n",
      "Epoch 12 Loss: 6.504268\n",
      "Epoch 13 Loss: 6.504246\n",
      "Epoch 14 Loss: 6.504270\n",
      "Epoch 15 Loss: 6.504294\n",
      "Epoch 16 Loss: 6.504268\n",
      "Epoch 17 Loss: 6.504270\n",
      "Epoch 18 Loss: 6.504261\n",
      "Epoch 19 Loss: 6.504278\n",
      "Epoch 20 Loss: 6.504263\n"
     ]
    }
   ],
   "source": [
    "import tensorflow as tf\n",
    "\n",
    "class CVAE(tf.keras.Model):\n",
    "    def __init__(self, latent_dim):\n",
    "        super(CVAE, self).__init__()\n",
    "        self.latent_dim = latent_dim\n",
    "        self.encoder = tf.keras.Sequential([\n",
    "            tf.keras.layers.InputLayer(input_shape=(train_inputs.shape[1], train_inputs.shape[2])),\n",
    "            tf.keras.layers.LSTM(64, return_sequences=True),\n",
    "            tf.keras.layers.BatchNormalization(),\n",
    "            tf.keras.layers.LSTM(32),\n",
    "            tf.keras.layers.BatchNormalization(),\n",
    "            tf.keras.layers.Dense(16, activation='relu'),\n",
    "            tf.keras.layers.Dense(latent_dim * 2)  \n",
    "        ])\n",
    "\n",
    "        self.decoder = tf.keras.Sequential([\n",
    "            tf.keras.layers.InputLayer(input_shape=(latent_dim,)),\n",
    "            tf.keras.layers.RepeatVector(train_inputs.shape[1]),  \n",
    "            tf.keras.layers.LSTM(32, return_sequences=True),\n",
    "            tf.keras.layers.BatchNormalization(),\n",
    "            tf.keras.layers.LSTM(64, return_sequences=True),\n",
    "            tf.keras.layers.BatchNormalization(),\n",
    "            tf.keras.layers.Dense(train_inputs.shape[2]) \n",
    "        ])\n",
    "\n",
    "    @tf.function\n",
    "    def sample(self, eps=None):\n",
    "        if eps is None:\n",
    "            eps = tf.random.normal(shape=(10, self.latent_dim))\n",
    "        return self.decode(eps, apply_sigmoid=True)\n",
    "\n",
    "    def encode(self, x):\n",
    "        mean, logvar = tf.split(self.encoder(x), num_or_size_splits=2, axis=1)\n",
    "        return mean, logvar\n",
    "\n",
    "    def reparameterize(self, mean, logvar):\n",
    "        eps = tf.random.normal(shape=mean.shape)\n",
    "        return eps * tf.exp(logvar * .5) + mean\n",
    "\n",
    "    def decode(self, z, apply_sigmoid=False):\n",
    "        logits = self.decoder(z)\n",
    "        if apply_sigmoid:\n",
    "            probs = tf.sigmoid(logits)\n",
    "            return probs\n",
    "        return logits\n",
    "\n",
    "optimizer = tf.keras.optimizers.legacy.Adam()\n",
    "\n",
    "def log_normal_pdf(sample, mean, logvar, raxis=1):\n",
    "    log2pi = tf.math.log(2. * np.pi)\n",
    "    return tf.reduce_sum(\n",
    "        -.5 * ((sample - mean) ** 2. * tf.exp(-logvar) + logvar + log2pi),\n",
    "        axis=raxis)\n",
    "\n",
    "def compute_loss(model, x):\n",
    "    mean, logvar = model.encode(x)\n",
    "    z = model.reparameterize(mean, logvar)\n",
    "    x_logit = model.decode(z)\n",
    "    cross_ent = tf.nn.sigmoid_cross_entropy_with_logits(logits=x_logit, labels=x)\n",
    "    logpx_z = -tf.reduce_sum(cross_ent, axis=[1, 2])\n",
    "    logpz = log_normal_pdf(z, 0., 0.)\n",
    "    logqz_x = log_normal_pdf(z, mean, logvar)\n",
    "    return -tf.reduce_mean(logpx_z + logpz - logqz_x)\n",
    "\n",
    "@tf.function\n",
    "def train_step(inputs, targets, model, optimizer):\n",
    "    batch_inputs = tf.cast(inputs, dtype=tf.float32)\n",
    "    batch_targets = tf.cast(targets, dtype=tf.float32)\n",
    "    with tf.GradientTape() as tape:\n",
    "        loss = compute_loss(model, batch_inputs)\n",
    "    gradients = tape.gradient(loss, model.trainable_variables)\n",
    "    optimizer.apply_gradients(zip(gradients, model.trainable_variables))\n",
    "    return loss\n",
    "\n",
    "\n",
    "epochs = 20\n",
    "latent_dim = 2\n",
    "num_examples_to_generate = 5\n",
    "losses = []\n",
    "\n",
    "random_vector_for_generation = tf.random.normal(shape=[num_examples_to_generate, latent_dim])\n",
    "model = CVAE(latent_dim)\n",
    "\n",
    "\n",
    "\n",
    "train_dataset = tf.data.Dataset.from_tensor_slices((train_inputs, train_targets)).shuffle(len(train_inputs)).batch(64)\n",
    "\n",
    "for epoch in range(epochs):\n",
    "    epoch_loss = 0\n",
    "    num_batches = 0\n",
    "    for batch_inputs, batch_targets in train_dataset:\n",
    "        batch_loss = train_step(batch_inputs, batch_targets, model, optimizer)\n",
    "        epoch_loss += batch_loss\n",
    "        num_batches += 1\n",
    "        \n",
    "    avg_loss = epoch_loss / num_batches\n",
    "    print('Epoch {} Loss: {:.6f}'.format(epoch + 1, avg_loss))\n",
    "    losses.append(avg_loss)\n",
    "generated_samples = model.sample(random_vector_for_generation)"
   ]
  },
  {
   "cell_type": "code",
   "execution_count": 6,
   "metadata": {},
   "outputs": [
    {
     "data": {
      "image/png": "[encoded data removed]",
      "text/plain": [
       "<Figure size 640x480 with 1 Axes>"
      ]
     },
     "metadata": {},
     "output_type": "display_data"
    }
   ],
   "source": [
    "#plot loss\n",
    "import matplotlib.pyplot as plt\n",
    "\n",
    "plt.plot(losses)\n",
    "plt.title('Training Loss')\n",
    "plt.xlabel('Epoch')\n",
    "plt.ylabel('Loss')\n",
    "plt.show()"
   ]
  },
  {
   "cell_type": "code",
   "execution_count": 7,
   "metadata": {},
   "outputs": [],
   "source": [
    "generated_samples_denormalized = generated_samples * np.array([notes_array.max(), velocities_array.max()])"
   ]
  },
  {
   "cell_type": "code",
   "execution_count": 8,
   "metadata": {},
   "outputs": [],
   "source": [
    "from music21 import stream, note, tempo\n",
    "\n",
    "for i in range(generated_samples_denormalized.shape[0]):\n",
    "    generated_sequence = generated_samples_denormalized[i]\n",
    "    \n",
    "    music_stream = stream.Stream()\n",
    "    \n",
    "    # 将生成的音符序列添加到音乐流中\n",
    "    for note_data in generated_sequence:\n",
    "        new_note = note.Note()\n",
    "        new_note.pitch.midi = int(note_data[0])\n",
    "        new_note.volume.velocity = int(note_data[1])\n",
    "        music_stream.append(new_note)\n",
    "\n",
    "    # 保存为 MIDI 文件\n",
    "    path = '/Users/rich/Desktop/AI-Music-Main/Generated_Music/'\n",
    "    music_stream.write('midi', fp=path + 'generated_music_{}.mid'.format(i))\n"
   ]
  },
  {
   "cell_type": "code",
   "execution_count": null,
   "metadata": {},
   "outputs": [],
   "source": []
  }
 ],
 "metadata": {
  "kernelspec": {
   "display_name": "tensorflow",
   "language": "python",
   "name": "python3"
  },
  "language_info": {
   "codemirror_mode": {
    "name": "ipython",
    "version": 3
   },
   "file_extension": ".py",
   "mimetype": "text/x-python",
   "name": "python",
   "nbconvert_exporter": "python",
   "pygments_lexer": "ipython3",
   "version": "3.11.3"
  }
 },
 "nbformat": 4,
 "nbformat_minor": 2
}
