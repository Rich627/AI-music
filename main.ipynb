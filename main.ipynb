{
 "cells": [
  {
   "cell_type": "code",
   "execution_count": 1,
   "metadata": {},
   "outputs": [],
   "source": [
    "import os\n",
    "import shutil\n",
    "\n",
    "main_directory = \"/Users/rich/Desktop/AIMusic/Datasets/\"\n",
    "\n",
    "#move files from subfolders to main folder\n",
    "for folder_name in os.listdir(main_directory):\n",
    "    folder_path = os.path.join(main_directory, folder_name)\n",
    "    if os.path.isdir(folder_path):\n",
    "        for file_name in os.listdir(folder_path):\n",
    "            file_path = os.path.join(folder_path, file_name) \n",
    "            if file_name != \".DS_Store\":\n",
    "                destination_path = os.path.join(main_directory, file_name)\n",
    "                shutil.move(file_path, destination_path)\n",
    "#del subfolders\n",
    "for folder_name in os.listdir(main_directory):\n",
    "    folder_path = os.path.join(main_directory, folder_name)\n",
    "    if os.path.isdir(folder_path):\n",
    "        shutil.rmtree(folder_path)\n",
    "#rename files\n",
    "count = 1\n",
    "for file_name in os.listdir(main_directory):\n",
    "    file_path = os.path.join(main_directory, file_name)\n",
    "    if os.path.isfile(file_path):\n",
    "        new_file_name = str(count) + os.path.splitext(file_name)[1]\n",
    "        new_file_path = os.path.join(main_directory, new_file_name)\n",
    "        os.rename(file_path, new_file_path)\n",
    "        count += 1\n",
    "\n",
    "#rename files\n",
    "count = 1\n",
    "for file_name in os.listdir(main_directory):\n",
    "    file_path = os.path.join(main_directory, file_name)\n",
    "    if os.path.isfile(file_path):\n",
    "        new_file_name = str(count) + os.path.splitext(file_name)[1]\n",
    "        new_file_path = os.path.join(main_directory, new_file_name)\n",
    "        os.rename(file_path, new_file_path)\n",
    "        count += 1"
   ]
  },
  {
   "cell_type": "code",
   "execution_count": 2,
   "metadata": {},
   "outputs": [
    {
     "name": "stdout",
     "output_type": "stream",
     "text": [
      "Error processing MIDI file /Users/rich/Desktop/AIMusic/Datasets/49.mid: data byte must be in range 0..127\n"
     ]
    },
    {
     "name": "stderr",
     "output_type": "stream",
     "text": [
      "/Users/Rich/Library/Python/3.9/lib/python/site-packages/pretty_midi/pretty_midi.py:100: RuntimeWarning: Tempo, Key or Time signature change events found on non-zero tracks.  This is not a valid type 0 or type 1 MIDI file.  Tempo, Key or Time Signature may be wrong.\n",
      "  warnings.warn(\n"
     ]
    },
    {
     "name": "stdout",
     "output_type": "stream",
     "text": [
      "Error processing MIDI file /Users/rich/Desktop/AIMusic/Datasets/411.mid: running status without last_status\n",
      "Error processing MIDI file /Users/rich/Desktop/AIMusic/Datasets/375.mid: Message length 2093056 exceeds maximum length 1000000\n",
      "Error processing MIDI file /Users/rich/Desktop/AIMusic/Datasets/406.mid: data byte must be in range 0..127\n",
      "Error processing MIDI file /Users/rich/Desktop/AIMusic/Datasets/604.mid: data byte must be in range 0..127\n",
      "Error processing MIDI file /Users/rich/Desktop/AIMusic/Datasets/837.mid: data byte must be in range 0..127\n",
      "Error processing MIDI file /Users/rich/Desktop/AIMusic/Datasets/562.mid: MIDI file has a largest tick of 12884927490, it is likely corrupt\n",
      "Error processing MIDI file /Users/rich/Desktop/AIMusic/Datasets/367.mid: data byte must be in range 0..127\n",
      "Error processing MIDI file /Users/rich/Desktop/AIMusic/Datasets/315.mid: data byte must be in range 0..127\n",
      "Error processing MIDI file /Users/rich/Desktop/AIMusic/Datasets/905.mid: data byte must be in range 0..127\n",
      "Error processing MIDI file /Users/rich/Desktop/AIMusic/Datasets/657.mid: \n",
      "Error processing MIDI file /Users/rich/Desktop/AIMusic/Datasets/962.mid: Could not decode key with 1 flats and mode 255\n"
     ]
    }
   ],
   "source": [
    "import pretty_midi\n",
    "import numpy as np\n",
    "import glob\n",
    "\n",
    "midi_file_paths = glob.glob('/Users/rich/Desktop/AIMusic/Datasets/*.mid')\n",
    "\n",
    "all_notes = []\n",
    "all_velocities = []\n",
    "\n",
    "for file_path in midi_file_paths:\n",
    "    try:\n",
    "        \n",
    "        midi_data = pretty_midi.PrettyMIDI(file_path)\n",
    "\n",
    "        notes = []\n",
    "        velocities = []\n",
    "        for instrument in midi_data.instruments:\n",
    "            for note in instrument.notes:\n",
    "                notes.append(note.pitch)\n",
    "                velocities.append(note.velocity)\n",
    "\n",
    "        all_notes.extend(notes)\n",
    "        all_velocities.extend(velocities)\n",
    "        \n",
    "    except Exception as e:\n",
    "        print(f\"Error processing MIDI file {file_path}: {str(e)}\")\n",
    "\n",
    "notes_array = np.array(all_notes)\n",
    "velocities_array = np.array(all_velocities)\n",
    "\n"
   ]
  },
  {
   "cell_type": "code",
   "execution_count": 3,
   "metadata": {},
   "outputs": [],
   "source": [
    "from sklearn.preprocessing import MinMaxScaler\n",
    "\n",
    "scaler = MinMaxScaler(feature_range=(0, 1))\n",
    "notes_normalized = scaler.fit_transform(notes_array.reshape(-1, 1))\n",
    "velocities_normalized = scaler.fit_transform(velocities_array.reshape(-1, 1))"
   ]
  },
  {
   "cell_type": "code",
   "execution_count": 4,
   "metadata": {},
   "outputs": [],
   "source": [
    "# 合併音符和速度陣列\n",
    "combined_data = np.concatenate((notes_normalized, velocities_normalized), axis=1)\n"
   ]
  },
  {
   "cell_type": "code",
   "execution_count": 5,
   "metadata": {},
   "outputs": [],
   "source": [
    "sequence_length = 100  # 定義輸入序列的長度\n",
    "inputs = []\n",
    "targets = []\n",
    "\n",
    "for i in range(len(combined_data) - sequence_length):\n",
    "    inputs.append(combined_data[i:i+sequence_length])\n",
    "    targets.append(combined_data[i+sequence_length])\n",
    "\n",
    "inputs = np.array(inputs)\n",
    "targets = np.array(targets)\n"
   ]
  },
  {
   "cell_type": "code",
   "execution_count": 6,
   "metadata": {},
   "outputs": [],
   "source": [
    "split_index = int(0.8 * len(inputs))  # 80% 作為訓練集，20% 作為測試集\n",
    "\n",
    "train_inputs = inputs[:split_index]\n",
    "train_targets = targets[:split_index]\n",
    "\n",
    "test_inputs = inputs[split_index:]\n",
    "test_targets = targets[split_index:]\n"
   ]
  },
  {
   "cell_type": "code",
   "execution_count": 7,
   "metadata": {},
   "outputs": [
    {
     "name": "stdout",
     "output_type": "stream",
     "text": [
      "Metal device set to: Apple M1\n",
      "\n",
      "systemMemory: 8.00 GB\n",
      "maxCacheSize: 2.67 GB\n",
      "\n"
     ]
    },
    {
     "name": "stderr",
     "output_type": "stream",
     "text": [
      "2023-06-05 19:27:02.636290: I tensorflow/core/common_runtime/pluggable_device/pluggable_device_factory.cc:305] Could not identify NUMA node of platform GPU ID 0, defaulting to 0. Your kernel may not have been built with NUMA support.\n",
      "2023-06-05 19:27:02.636747: I tensorflow/core/common_runtime/pluggable_device/pluggable_device_factory.cc:271] Created TensorFlow device (/job:localhost/replica:0/task:0/device:GPU:0 with 0 MB memory) -> physical PluggableDevice (device: 0, name: METAL, pci bus id: <undefined>)\n"
     ]
    },
    {
     "name": "stdout",
     "output_type": "stream",
     "text": [
      "Epoch 1/5\n"
     ]
    },
    {
     "name": "stderr",
     "output_type": "stream",
     "text": [
      "2023-06-05 19:27:07.719718: W tensorflow/core/platform/profile_utils/cpu_utils.cc:128] Failed to get CPU frequency: 0 Hz\n",
      "2023-06-05 19:27:08.727344: I tensorflow/core/grappler/optimizers/custom_graph_optimizer_registry.cc:113] Plugin optimizer for device_type GPU is enabled.\n",
      "2023-06-05 19:27:08.919502: I tensorflow/core/grappler/optimizers/custom_graph_optimizer_registry.cc:113] Plugin optimizer for device_type GPU is enabled.\n",
      "2023-06-05 19:27:09.317945: I tensorflow/core/grappler/optimizers/custom_graph_optimizer_registry.cc:113] Plugin optimizer for device_type GPU is enabled.\n"
     ]
    },
    {
     "name": "stdout",
     "output_type": "stream",
     "text": [
      "34316/34316 [==============================] - 1263s 37ms/step - loss: 0.0076\n",
      "Epoch 2/5\n",
      "34316/34316 [==============================] - 1333s 39ms/step - loss: 0.0060\n",
      "Epoch 3/5\n",
      "34316/34316 [==============================] - 1412s 41ms/step - loss: 0.0051\n",
      "Epoch 4/5\n",
      "34316/34316 [==============================] - 1478s 43ms/step - loss: 0.0047\n",
      "Epoch 5/5\n",
      "34316/34316 [==============================] - 1433s 42ms/step - loss: 0.0044\n"
     ]
    },
    {
     "data": {
      "text/plain": [
       "<keras.callbacks.History at 0x297425eb0>"
      ]
     },
     "execution_count": 7,
     "metadata": {},
     "output_type": "execute_result"
    }
   ],
   "source": [
    "import tensorflow as tf\n",
    "\n",
    "model = tf.keras.Sequential([\n",
    "    tf.keras.layers.LSTM(256, input_shape=(sequence_length, combined_data.shape[1])),\n",
    "    tf.keras.layers.Dense(128, activation='relu'),\n",
    "    tf.keras.layers.Dense(combined_data.shape[1], activation='sigmoid')\n",
    "])\n",
    "\n",
    "model.compile(optimizer='adam', loss='mse')\n",
    "\n",
    "model.fit(train_inputs, train_targets, epochs=5, batch_size=64)\n"
   ]
  },
  {
   "cell_type": "code",
   "execution_count": null,
   "metadata": {},
   "outputs": [],
   "source": [
    "model.save('/Users/rich/Desktop/AIMusic/Models/model1')"
   ]
  },
  {
   "cell_type": "code",
   "execution_count": 9,
   "metadata": {},
   "outputs": [
    {
     "name": "stdout",
     "output_type": "stream",
     "text": [
      "1/1 [==============================] - 0s 148ms/step\n",
      "1/1 [==============================] - 0s 41ms/step\n",
      "1/1 [==============================] - 0s 35ms/step\n",
      "1/1 [==============================] - 0s 31ms/step\n",
      "1/1 [==============================] - 0s 33ms/step\n",
      "1/1 [==============================] - 0s 31ms/step\n",
      "1/1 [==============================] - 0s 31ms/step\n",
      "1/1 [==============================] - 0s 31ms/step\n",
      "1/1 [==============================] - 0s 32ms/step\n",
      "1/1 [==============================] - 0s 32ms/step\n",
      "1/1 [==============================] - 0s 32ms/step\n",
      "1/1 [==============================] - 0s 32ms/step\n",
      "1/1 [==============================] - 0s 31ms/step\n",
      "1/1 [==============================] - 0s 31ms/step\n",
      "1/1 [==============================] - 0s 39ms/step\n",
      "1/1 [==============================] - 0s 37ms/step\n",
      "1/1 [==============================] - 0s 44ms/step\n",
      "1/1 [==============================] - 0s 49ms/step\n",
      "1/1 [==============================] - 0s 40ms/step\n",
      "1/1 [==============================] - 0s 44ms/step\n",
      "1/1 [==============================] - 0s 43ms/step\n",
      "1/1 [==============================] - 0s 35ms/step\n",
      "1/1 [==============================] - 0s 34ms/step\n",
      "1/1 [==============================] - 0s 34ms/step\n",
      "1/1 [==============================] - 0s 33ms/step\n",
      "1/1 [==============================] - 0s 32ms/step\n",
      "1/1 [==============================] - 0s 31ms/step\n",
      "1/1 [==============================] - 0s 33ms/step\n",
      "1/1 [==============================] - 0s 32ms/step\n",
      "1/1 [==============================] - 0s 44ms/step\n",
      "1/1 [==============================] - 0s 34ms/step\n",
      "1/1 [==============================] - 0s 37ms/step\n",
      "1/1 [==============================] - 0s 34ms/step\n",
      "1/1 [==============================] - 0s 34ms/step\n",
      "1/1 [==============================] - 0s 32ms/step\n",
      "1/1 [==============================] - 0s 31ms/step\n",
      "1/1 [==============================] - 0s 31ms/step\n",
      "1/1 [==============================] - 0s 32ms/step\n",
      "1/1 [==============================] - 0s 30ms/step\n",
      "1/1 [==============================] - 0s 30ms/step\n",
      "1/1 [==============================] - 0s 29ms/step\n",
      "1/1 [==============================] - 0s 30ms/step\n",
      "1/1 [==============================] - 0s 33ms/step\n",
      "1/1 [==============================] - 0s 32ms/step\n",
      "1/1 [==============================] - 0s 34ms/step\n",
      "1/1 [==============================] - 0s 34ms/step\n",
      "1/1 [==============================] - 0s 31ms/step\n",
      "1/1 [==============================] - 0s 31ms/step\n",
      "1/1 [==============================] - 0s 33ms/step\n",
      "1/1 [==============================] - 0s 33ms/step\n",
      "1/1 [==============================] - 0s 36ms/step\n",
      "1/1 [==============================] - 0s 35ms/step\n",
      "1/1 [==============================] - 0s 36ms/step\n",
      "1/1 [==============================] - 0s 32ms/step\n",
      "1/1 [==============================] - 0s 31ms/step\n",
      "1/1 [==============================] - 0s 31ms/step\n",
      "1/1 [==============================] - 0s 32ms/step\n",
      "1/1 [==============================] - 0s 31ms/step\n",
      "1/1 [==============================] - 0s 30ms/step\n",
      "1/1 [==============================] - 0s 31ms/step\n",
      "1/1 [==============================] - 0s 30ms/step\n",
      "1/1 [==============================] - 0s 34ms/step\n",
      "1/1 [==============================] - 0s 30ms/step\n",
      "1/1 [==============================] - 0s 32ms/step\n",
      "1/1 [==============================] - 0s 29ms/step\n",
      "1/1 [==============================] - 0s 31ms/step\n",
      "1/1 [==============================] - 0s 29ms/step\n",
      "1/1 [==============================] - 0s 29ms/step\n",
      "1/1 [==============================] - 0s 32ms/step\n",
      "1/1 [==============================] - 0s 33ms/step\n",
      "1/1 [==============================] - 0s 32ms/step\n",
      "1/1 [==============================] - 0s 33ms/step\n",
      "1/1 [==============================] - 0s 32ms/step\n",
      "1/1 [==============================] - 0s 32ms/step\n",
      "1/1 [==============================] - 0s 32ms/step\n",
      "1/1 [==============================] - 0s 31ms/step\n",
      "1/1 [==============================] - 0s 31ms/step\n",
      "1/1 [==============================] - 0s 31ms/step\n",
      "1/1 [==============================] - 0s 31ms/step\n",
      "1/1 [==============================] - 0s 32ms/step\n",
      "1/1 [==============================] - 0s 32ms/step\n",
      "1/1 [==============================] - 0s 32ms/step\n",
      "1/1 [==============================] - 0s 32ms/step\n",
      "1/1 [==============================] - 0s 30ms/step\n",
      "1/1 [==============================] - 0s 30ms/step\n",
      "1/1 [==============================] - 0s 31ms/step\n",
      "1/1 [==============================] - 0s 33ms/step\n",
      "1/1 [==============================] - 0s 32ms/step\n",
      "1/1 [==============================] - 0s 33ms/step\n",
      "1/1 [==============================] - 0s 30ms/step\n",
      "1/1 [==============================] - 0s 32ms/step\n",
      "1/1 [==============================] - 0s 30ms/step\n",
      "1/1 [==============================] - 0s 31ms/step\n",
      "1/1 [==============================] - 0s 31ms/step\n",
      "1/1 [==============================] - 0s 30ms/step\n",
      "1/1 [==============================] - 0s 33ms/step\n",
      "1/1 [==============================] - 0s 36ms/step\n",
      "1/1 [==============================] - 0s 32ms/step\n",
      "1/1 [==============================] - 0s 32ms/step\n",
      "1/1 [==============================] - 0s 32ms/step\n"
     ]
    }
   ],
   "source": [
    "# 使用訓練好的模型生成音樂序列\n",
    "generated_sequence = []\n",
    "\n",
    "# 選擇一個隨機的起始位置作為輸入序列\n",
    "start_index = np.random.randint(0, len(test_inputs)-1)\n",
    "input_sequence = test_inputs[start_index]\n",
    "\n",
    "# 定義生成的音樂序列的長度\n",
    "sequence_length = 100\n",
    "\n",
    "for _ in range(sequence_length):\n",
    "    # 預測下一個時間步的音符和速度\n",
    "    predicted = model.predict(np.expand_dims(input_sequence, axis=0))\n",
    "    generated_sequence.append(predicted[0])\n",
    "    \n",
    "    # 更新輸入序列，將預測的音符和速度添加到序列的末尾\n",
    "    input_sequence = np.concatenate((input_sequence[1:], np.expand_dims(predicted[0], axis=0)))\n",
    "\n",
    "# 將生成的音樂序列還原為原始範圍\n",
    "generated_sequence = scaler.inverse_transform(generated_sequence)\n",
    "\n",
    "# 進行其他後處理步驟，例如將音符和速度轉換為MIDI事件\n",
    "\n",
    "# 將生成的音樂序列轉換為MIDI文件\n",
    "# TODO: 將生成的音樂序列轉換為MIDI事件，並保存為MIDI文件\n"
   ]
  },
  {
   "cell_type": "code",
   "execution_count": 10,
   "metadata": {},
   "outputs": [
    {
     "data": {
      "text/plain": [
       "'generated_music.mid'"
      ]
     },
     "execution_count": 10,
     "metadata": {},
     "output_type": "execute_result"
    }
   ],
   "source": [
    "from music21 import stream, note, tempo\n",
    "\n",
    "# 建立一個音樂流（stream）\n",
    "music_stream = stream.Stream()\n",
    "\n",
    "# 設定一個預設的速度\n",
    "default_tempo = tempo.MetronomeMark(number=120)\n",
    "\n",
    "# 將生成的音樂序列轉換為音符和和弦，並將它們添加到音樂流中\n",
    "for sequence in generated_sequence:\n",
    "    pitch = int(sequence[0])  # 假設音符在序列中的第一個位置\n",
    "    duration = float(sequence[1])  # 假設持續時間在序列中的第二個位置\n",
    "\n",
    "    n = note.Note()\n",
    "    n.pitch.midi = pitch\n",
    "    n.duration.quarterLength = duration\n",
    "\n",
    "    music_stream.append(n)\n",
    "\n",
    "# 將預設速度添加到音樂流中\n",
    "music_stream.insert(0, default_tempo)\n",
    "\n",
    "# 將音樂流保存為 MIDI 文件\n",
    "midi_filename = \"generated_music.mid\"\n",
    "music_stream.write(\"midi\", fp=midi_filename)\n"
   ]
  },
  {
   "cell_type": "code",
   "execution_count": 11,
   "metadata": {},
   "outputs": [
    {
     "ename": "",
     "evalue": "",
     "output_type": "error",
     "traceback": [
      "\u001b[1;31mCanceled future for execute_request message before replies were done"
     ]
    },
    {
     "ename": "",
     "evalue": "",
     "output_type": "error",
     "traceback": [
      "\u001b[1;31m在目前儲存格或上一個儲存格中執行程式碼時，Kernel 已損毀。請檢閱儲存格中的程式碼，找出失敗的可能原因。如需詳細資訊，請按一下<a href='https://aka.ms/vscodeJupyterKernelCrash'>這裡</a>。檢視 Jupyter <a href='command:jupyter.viewOutput'>記錄</a>，以取得進一步的詳細資料。"
     ]
    }
   ],
   "source": [
    "import tkinter as tk\n",
    "import pygame\n",
    "\n",
    "# 初始化 pygame\n",
    "pygame.init()\n",
    "\n",
    "# 設定全局變數\n",
    "is_playing = False\n",
    "\n",
    "# 播放 MIDI 文件的函數\n",
    "def play_music():\n",
    "    global is_playing\n",
    "    if not is_playing:\n",
    "        pygame.mixer.music.play()\n",
    "        is_playing = True\n",
    "\n",
    "# 暫停 MIDI 文件的函數\n",
    "def pause_music():\n",
    "    global is_playing\n",
    "    if is_playing:\n",
    "        pygame.mixer.music.pause()\n",
    "        is_playing = False\n",
    "\n",
    "# 停止 MIDI 文件的函數\n",
    "def stop_music():\n",
    "    global is_playing\n",
    "    if is_playing:\n",
    "        pygame.mixer.music.stop()\n",
    "        is_playing = False\n",
    "\n",
    "# 創建主視窗\n",
    "window = tk.Tk()\n",
    "\n",
    "# 創建播放按鈕\n",
    "play_button = tk.Button(window, text=\"播放\", command=play_music)\n",
    "play_button.pack()\n",
    "\n",
    "# 創建暫停按鈕\n",
    "pause_button = tk.Button(window, text=\"暫停\", command=pause_music)\n",
    "pause_button.pack()\n",
    "\n",
    "# 創建停止按鈕\n",
    "stop_button = tk.Button(window, text=\"停止\", command=stop_music)\n",
    "stop_button.pack()\n",
    "\n",
    "# 載入 MIDI 文件\n",
    "midi_filename = \"generated_music.mid\"\n",
    "pygame.mixer.music.load(midi_filename)\n",
    "\n",
    "# 開始主迴圈\n",
    "window.mainloop()\n",
    "\n",
    "# 關閉 pygame\n",
    "pygame.quit()\n"
   ]
  },
  {
   "cell_type": "code",
   "execution_count": null,
   "metadata": {},
   "outputs": [],
   "source": []
  }
 ],
 "metadata": {
  "kernelspec": {
   "display_name": "Python 3 (ipykernel)",
   "language": "python",
   "name": "python3"
  },
  "language_info": {
   "codemirror_mode": {
    "name": "ipython",
    "version": 3
   },
   "file_extension": ".py",
   "mimetype": "text/x-python",
   "name": "python",
   "nbconvert_exporter": "python",
   "pygments_lexer": "ipython3",
   "version": "3.9.6"
  }
 },
 "nbformat": 4,
 "nbformat_minor": 2
}
