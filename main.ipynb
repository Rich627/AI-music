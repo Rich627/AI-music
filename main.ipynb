{
 "cells": [
  {
   "cell_type": "code",
   "execution_count": 1,
   "metadata": {},
   "outputs": [],
   "source": [
    "import os\n",
    "import shutil\n",
    "\n",
    "main_directory = \"/Users/rich/Desktop/AI-music/Datasets/\"\n",
    "\n",
    "#move files from subfolders to main folder\n",
    "for folder_name in os.listdir(main_directory):\n",
    "    folder_path = os.path.join(main_directory, folder_name)\n",
    "    if os.path.isdir(folder_path):\n",
    "        for file_name in os.listdir(folder_path):\n",
    "            file_path = os.path.join(folder_path, file_name) \n",
    "            if file_name != \".DS_Store\":\n",
    "                destination_path = os.path.join(main_directory, file_name)\n",
    "                shutil.move(file_path, destination_path)\n",
    "#del subfolders\n",
    "for folder_name in os.listdir(main_directory):\n",
    "    folder_path = os.path.join(main_directory, folder_name)\n",
    "    if os.path.isdir(folder_path):\n",
    "        shutil.rmtree(folder_path)\n",
    "#rename files\n",
    "count = 1\n",
    "for file_name in os.listdir(main_directory):\n",
    "    file_path = os.path.join(main_directory, file_name)\n",
    "    if os.path.isfile(file_path):\n",
    "        new_file_name = str(count) + os.path.splitext(file_name)[1]\n",
    "        new_file_path = os.path.join(main_directory, new_file_name)\n",
    "        os.rename(file_path, new_file_path)\n",
    "        count += 1\n",
    "\n",
    "#rename files\n",
    "count = 1\n",
    "for file_name in os.listdir(main_directory):\n",
    "    file_path = os.path.join(main_directory, file_name)\n",
    "    if os.path.isfile(file_path):\n",
    "        new_file_name = str(count) + os.path.splitext(file_name)[1]\n",
    "        new_file_path = os.path.join(main_directory, new_file_name)\n",
    "        os.rename(file_path, new_file_path)\n",
    "        count += 1"
   ]
  },
  {
   "cell_type": "code",
   "execution_count": 2,
   "metadata": {},
   "outputs": [
    {
     "name": "stderr",
     "output_type": "stream",
     "text": [
      "/Users/Rich/Library/Python/3.9/lib/python/site-packages/pretty_midi/pretty_midi.py:100: RuntimeWarning: Tempo, Key or Time signature change events found on non-zero tracks.  This is not a valid type 0 or type 1 MIDI file.  Tempo, Key or Time Signature may be wrong.\n",
      "  warnings.warn(\n"
     ]
    }
   ],
   "source": [
    "import pretty_midi\n",
    "import numpy as np\n",
    "import glob\n",
    "\n",
    "\n",
    "midi_file_paths = glob.glob('/Users/rich/Desktop/AI-music/Datasets/*.mid')\n",
    "\n",
    "all_notes = []\n",
    "all_velocities = []\n",
    "\n",
    "#midi file processing \n",
    "#有些midi文件有问题，所以用try except\n",
    "for file_path in midi_file_paths:\n",
    "    try:\n",
    "        midi_data = pretty_midi.PrettyMIDI(file_path)\n",
    "        notes = []\n",
    "        velocities = []\n",
    "\n",
    "        for instrument in midi_data.instruments:\n",
    "            for note in instrument.notes:\n",
    "                notes.append(note.pitch)\n",
    "                velocities.append(note.velocity)\n",
    "\n",
    "        all_notes.extend(notes)\n",
    "        all_velocities.extend(velocities)\n",
    "    except:\n",
    "        pass\n",
    "\n",
    "notes_array = np.array(all_notes)\n",
    "velocities_array = np.array(all_velocities)\n",
    "\n"
   ]
  },
  {
   "cell_type": "code",
   "execution_count": 4,
   "metadata": {},
   "outputs": [],
   "source": [
    "#normalize\n",
    "notes_normalized = notes_array.reshape(-1, 1) / float(notes_array.max())\n",
    "velocities_normalized = velocities_array.reshape(-1, 1) / float(velocities_array.max())\n",
    "\n",
    "# combine notes and velocities\n",
    "combined_data = np.concatenate((notes_normalized, velocities_normalized), axis=1)\n"
   ]
  },
  {
   "cell_type": "code",
   "execution_count": 5,
   "metadata": {},
   "outputs": [],
   "source": [
    "sequence_length = 100\n",
    "inputs = []\n",
    "targets = []\n",
    "\n",
    "for i in range(len(combined_data) - sequence_length):\n",
    "    inputs.append(combined_data[i:i+sequence_length])\n",
    "    targets.append(combined_data[i+sequence_length])\n",
    "\n",
    "inputs = np.array(inputs)\n",
    "targets = np.array(targets)"
   ]
  },
  {
   "cell_type": "code",
   "execution_count": 6,
   "metadata": {},
   "outputs": [],
   "source": [
    "#split data\n",
    "split_index = int(0.8 * len(inputs)) \n",
    "\n",
    "train_inputs = inputs[:split_index]\n",
    "train_targets = targets[:split_index]\n",
    "\n",
    "test_inputs = inputs[split_index:]\n",
    "test_targets = targets[split_index:]"
   ]
  },
  {
   "cell_type": "code",
   "execution_count": 8,
   "metadata": {},
   "outputs": [
    {
     "name": "stdout",
     "output_type": "stream",
     "text": [
      "Epoch 1/30\n"
     ]
    },
    {
     "name": "stderr",
     "output_type": "stream",
     "text": [
      "2023-06-06 00:11:32.242992: I tensorflow/core/grappler/optimizers/custom_graph_optimizer_registry.cc:113] Plugin optimizer for device_type GPU is enabled.\n",
      "2023-06-06 00:11:32.464090: I tensorflow/core/grappler/optimizers/custom_graph_optimizer_registry.cc:113] Plugin optimizer for device_type GPU is enabled.\n",
      "2023-06-06 00:11:32.792542: I tensorflow/core/grappler/optimizers/custom_graph_optimizer_registry.cc:113] Plugin optimizer for device_type GPU is enabled.\n"
     ]
    },
    {
     "name": "stdout",
     "output_type": "stream",
     "text": [
      "19356/19356 [==============================] - 713s 37ms/step - loss: 0.0078\n",
      "Epoch 2/30\n",
      "19356/19356 [==============================] - 711s 37ms/step - loss: 0.0063\n",
      "Epoch 3/30\n",
      "19356/19356 [==============================] - 715s 37ms/step - loss: 0.0053\n",
      "Epoch 4/30\n",
      "19356/19356 [==============================] - 718s 37ms/step - loss: 0.0048\n",
      "Epoch 5/30\n",
      "19356/19356 [==============================] - 719s 37ms/step - loss: 0.0044\n",
      "Epoch 6/30\n",
      "19356/19356 [==============================] - 721s 37ms/step - loss: 0.0041\n",
      "Epoch 7/30\n",
      "19356/19356 [==============================] - 719s 37ms/step - loss: 0.0039\n",
      "Epoch 8/30\n",
      "19356/19356 [==============================] - 721s 37ms/step - loss: 0.0037\n",
      "Epoch 9/30\n",
      "19356/19356 [==============================] - 720s 37ms/step - loss: 0.0036\n",
      "Epoch 10/30\n",
      "19356/19356 [==============================] - 723s 37ms/step - loss: 0.0034\n",
      "Epoch 11/30\n",
      "19356/19356 [==============================] - 756s 39ms/step - loss: 0.0033\n",
      "Epoch 12/30\n",
      "19356/19356 [==============================] - 760s 39ms/step - loss: 0.0032\n",
      "Epoch 13/30\n",
      "19356/19356 [==============================] - 760s 39ms/step - loss: 0.0031\n",
      "Epoch 14/30\n",
      "19356/19356 [==============================] - 755s 39ms/step - loss: 0.0030\n",
      "Epoch 15/30\n",
      "19356/19356 [==============================] - 769s 40ms/step - loss: 0.0030\n",
      "Epoch 16/30\n",
      "19356/19356 [==============================] - 762s 39ms/step - loss: 0.0029\n",
      "Epoch 17/30\n",
      "19356/19356 [==============================] - 760s 39ms/step - loss: 0.0028\n",
      "Epoch 18/30\n",
      "19356/19356 [==============================] - 765s 40ms/step - loss: 0.0028\n",
      "Epoch 19/30\n",
      "19356/19356 [==============================] - 769s 40ms/step - loss: 0.0027\n",
      "Epoch 20/30\n",
      "19356/19356 [==============================] - 774s 40ms/step - loss: 0.0027\n",
      "Epoch 21/30\n",
      "19356/19356 [==============================] - 772s 40ms/step - loss: 0.0042\n",
      "Epoch 22/30\n",
      "19356/19356 [==============================] - 773s 40ms/step - loss: 0.0030\n",
      "Epoch 23/30\n",
      "19356/19356 [==============================] - 772s 40ms/step - loss: 0.0027\n",
      "Epoch 24/30\n",
      "19356/19356 [==============================] - 773s 40ms/step - loss: 0.0026\n",
      "Epoch 25/30\n",
      "19356/19356 [==============================] - 774s 40ms/step - loss: 0.0026\n",
      "Epoch 26/30\n",
      "19356/19356 [==============================] - 772s 40ms/step - loss: 0.0025\n",
      "Epoch 27/30\n",
      "19356/19356 [==============================] - 774s 40ms/step - loss: 0.0025\n",
      "Epoch 28/30\n",
      "19356/19356 [==============================] - 774s 40ms/step - loss: 0.0025\n",
      "Epoch 29/30\n",
      "19356/19356 [==============================] - 777s 40ms/step - loss: 0.0026\n",
      "Epoch 30/30\n",
      "19356/19356 [==============================] - 777s 40ms/step - loss: 0.0147\n"
     ]
    },
    {
     "name": "stderr",
     "output_type": "stream",
     "text": [
      "WARNING:absl:Found untraced functions such as lstm_cell_1_layer_call_fn, lstm_cell_1_layer_call_and_return_conditional_losses while saving (showing 2 of 2). These functions will not be directly callable after loading.\n"
     ]
    },
    {
     "name": "stdout",
     "output_type": "stream",
     "text": [
      "INFO:tensorflow:Assets written to: /Users/rich/Desktop/AI-music/Models/model01/assets\n"
     ]
    },
    {
     "name": "stderr",
     "output_type": "stream",
     "text": [
      "INFO:tensorflow:Assets written to: /Users/rich/Desktop/AI-music/Models/model01/assets\n"
     ]
    }
   ],
   "source": [
    "#build model\n",
    "import tensorflow as tf\n",
    "\n",
    "model = tf.keras.Sequential([\n",
    "    tf.keras.layers.LSTM(256, input_shape=(sequence_length, combined_data.shape[1])),\n",
    "    tf.keras.layers.Dense(128, activation='relu'),\n",
    "    tf.keras.layers.Dense(combined_data.shape[1], activation='sigmoid')\n",
    "])\n",
    "\n",
    "model.compile(optimizer='adam', loss='mse')\n",
    "\n",
    "history = model.fit(train_inputs, train_targets, epochs=25, batch_size=64)\n",
    "model.save('/Users/rich/Desktop/AI-music/Models/model02')"
   ]
  },
  {
   "cell_type": "code",
   "execution_count": 9,
   "metadata": {},
   "outputs": [
    {
     "name": "stderr",
     "output_type": "stream",
     "text": [
      "WARNING:matplotlib.legend:No artists with labels found to put in legend.  Note that artists whose label start with an underscore are ignored when legend() is called with no argument.\n"
     ]
    },
    {
     "data": {
      "image/png": "[encoded data removed]",
      "text/plain": [
       "<Figure size 640x480 with 1 Axes>"
      ]
     },
     "metadata": {},
     "output_type": "display_data"
    }
   ],
   "source": [
    "#plot loss\n",
    "import matplotlib.pyplot as plt\n",
    "\n",
    "plt.plot(history.history['loss'])\n",
    "plt.title('Model Loss')\n",
    "plt.ylabel('Loss')\n",
    "plt.xlabel('Epoch')\n",
    "plt.legend()\n",
    "plt.show()"
   ]
  },
  {
   "cell_type": "code",
   "execution_count": 10,
   "metadata": {},
   "outputs": [
    {
     "name": "stderr",
     "output_type": "stream",
     "text": [
      "2023-06-06 06:27:21.735023: I tensorflow/core/grappler/optimizers/custom_graph_optimizer_registry.cc:113] Plugin optimizer for device_type GPU is enabled.\n",
      "2023-06-06 06:27:21.830834: I tensorflow/core/grappler/optimizers/custom_graph_optimizer_registry.cc:113] Plugin optimizer for device_type GPU is enabled.\n"
     ]
    },
    {
     "name": "stdout",
     "output_type": "stream",
     "text": [
      "1/1 [==============================] - 1s 562ms/step\n",
      "1/1 [==============================] - 0s 29ms/step\n",
      "1/1 [==============================] - 0s 26ms/step\n",
      "1/1 [==============================] - 0s 25ms/step\n",
      "1/1 [==============================] - 0s 26ms/step\n",
      "1/1 [==============================] - 0s 25ms/step\n",
      "1/1 [==============================] - 0s 26ms/step\n",
      "1/1 [==============================] - 0s 25ms/step\n",
      "1/1 [==============================] - 0s 28ms/step\n",
      "1/1 [==============================] - 0s 25ms/step\n",
      "1/1 [==============================] - 0s 25ms/step\n",
      "1/1 [==============================] - 0s 25ms/step\n",
      "1/1 [==============================] - 0s 25ms/step\n",
      "1/1 [==============================] - 0s 25ms/step\n",
      "1/1 [==============================] - 0s 25ms/step\n",
      "1/1 [==============================] - 0s 26ms/step\n",
      "1/1 [==============================] - 0s 25ms/step\n",
      "1/1 [==============================] - 0s 25ms/step\n",
      "1/1 [==============================] - 0s 25ms/step\n",
      "1/1 [==============================] - 0s 25ms/step\n",
      "1/1 [==============================] - 0s 25ms/step\n",
      "1/1 [==============================] - 0s 25ms/step\n",
      "1/1 [==============================] - 0s 25ms/step\n",
      "1/1 [==============================] - 0s 25ms/step\n",
      "1/1 [==============================] - 0s 25ms/step\n",
      "1/1 [==============================] - 0s 25ms/step\n",
      "1/1 [==============================] - 0s 25ms/step\n",
      "1/1 [==============================] - 0s 25ms/step\n",
      "1/1 [==============================] - 0s 29ms/step\n",
      "1/1 [==============================] - 0s 25ms/step\n"
     ]
    }
   ],
   "source": [
    "#generate music\n",
    "generated_sequence = []\n",
    "\n",
    "\n",
    "start_index = np.random.randint(0, len(test_inputs)-1)\n",
    "input_sequence = test_inputs[start_index]\n",
    "sequence_length = 30\n",
    "\n",
    "for _ in range(sequence_length):\n",
    "    predicted = model.predict(np.expand_dims(input_sequence, axis=0))\n",
    "    generated_sequence.append(predicted[0])\n",
    "    input_sequence = np.concatenate((input_sequence[1:], np.expand_dims(predicted[0], axis=0)))\n",
    "\n",
    "generated_sequence = notes_array.max() * generated_sequence\n"
   ]
  },
  {
   "cell_type": "code",
   "execution_count": 11,
   "metadata": {},
   "outputs": [
    {
     "data": {
      "text/plain": [
       "'generated_music.mid'"
      ]
     },
     "execution_count": 11,
     "metadata": {},
     "output_type": "execute_result"
    }
   ],
   "source": [
    "#convert to midi\n",
    "from music21 import stream, note, tempo\n",
    "\n",
    "music_stream = stream.Stream()\n",
    "default_tempo = tempo.MetronomeMark(number=120)\n",
    "\n",
    "for sequence in generated_sequence:\n",
    "    pitch = int(sequence[0])  \n",
    "    duration = float(sequence[1])  \n",
    "\n",
    "    n = note.Note()\n",
    "    n.pitch.midi = pitch\n",
    "    n.duration.quarterLength = duration\n",
    "\n",
    "    music_stream.append(n)\n",
    "\n",
    "music_stream.insert(0, default_tempo)\n",
    "\n",
    "midi_filename = \"generated_music.mid\"\n",
    "music_stream.write(\"midi\", fp=midi_filename)\n"
   ]
  }
 ],
 "metadata": {
  "kernelspec": {
   "display_name": "Python 3 (ipykernel)",
   "language": "python",
   "name": "python3"
  },
  "language_info": {
   "codemirror_mode": {
    "name": "ipython",
    "version": 3
   },
   "file_extension": ".py",
   "mimetype": "text/x-python",
   "name": "python",
   "nbconvert_exporter": "python",
   "pygments_lexer": "ipython3",
   "version": "3.9.6"
  }
 },
 "nbformat": 4,
 "nbformat_minor": 2
}
