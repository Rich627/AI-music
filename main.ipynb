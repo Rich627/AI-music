{
 "cells": [
  {
   "cell_type": "code",
   "execution_count": 1,
   "metadata": {},
   "outputs": [],
   "source": [
    "import os\n",
    "\n",
    "# main_directory = \"/Users/rich/Desktop/AI-music/Data\"\n",
    "\n",
    "# #move files from subfolders to main folder\n",
    "# for folder_name in os.listdir(main_directory):\n",
    "#     folder_path = os.path.join(main_directory, folder_name)\n",
    "#     if os.path.isdir(folder_path):\n",
    "#         for file_name in os.listdir(folder_path):\n",
    "#             file_path = os.path.join(folder_path, file_name) \n",
    "#             if file_name != \".DS_Store\":\n",
    "#                 destination_path = os.path.join(main_directory, file_name)\n",
    "#                 shutil.move(file_path, destination_path)\n",
    "# #del subfolders\n",
    "# for folder_name in os.listdir(main_directory):\n",
    "#     folder_path = os.path.join(main_directory, folder_name)\n",
    "#     if os.path.isdir(folder_path):\n",
    "#         shutil.rmtree(folder_path)\n",
    "# #rename files\n",
    "# count = 1\n",
    "# for file_name in os.listdir(main_directory):\n",
    "#     file_path = os.path.join(main_directory, file_name)\n",
    "#     if os.path.isfile(file_path):\n",
    "#         new_file_name = str(count) + os.path.splitext(file_name)[1]\n",
    "#         new_file_path = os.path.join(main_directory, new_file_name)\n",
    "#         os.rename(file_path, new_file_path)\n",
    "#         count += 1"
   ]
  },
  {
   "cell_type": "code",
   "execution_count": 2,
   "metadata": {},
   "outputs": [],
   "source": [
    "import shutil\n",
    "import random\n",
    "\n",
    "# # Specify the source directory where the files are currently located\n",
    "# source_directory = '/Users/rich/Desktop/AI-music/Data'\n",
    "\n",
    "# # Specify the destination directory where you want to move the files\n",
    "# destination_directory = '/Users/rich/Desktop/AI-music/Original Data'\n",
    "\n",
    "# # Get a list of all the files in the source directory\n",
    "# file_list = os.listdir(source_directory)\n",
    "\n",
    "# # Iterate over each file and move it to the destination directory\n",
    "# for file_name in file_list:\n",
    "#     # Construct the full path of the source file\n",
    "#     source_file = os.path.join(source_directory, file_name)\n",
    "    \n",
    "#     # Construct the full path of the destination file\n",
    "#     destination_file = os.path.join(destination_directory, file_name)\n",
    "    \n",
    "#     # Move the file to the destination directory\n",
    "#     shutil.move(source_file, destination_file)\n"
   ]
  },
  {
   "cell_type": "code",
   "execution_count": 3,
   "metadata": {},
   "outputs": [],
   "source": [
    "import pretty_midi\n",
    "import numpy as np\n",
    "import glob\n",
    "import mido\n",
    "\n",
    "# # MIDI轉換為10秒長度的MIDI\n",
    "# def convert_to_10_seconds(input_file, output_file):\n",
    "#     # 打開 MIDI 文件\n",
    "#     mid = mido.MidiFile(input_file)\n",
    "\n",
    "#     # 計算所有消息的時間總和\n",
    "#     total_ticks = sum([msg.time for msg in mid])\n",
    "\n",
    "#     # 計算每秒的 tick 數    \n",
    "#     ticks_per_second = 480\n",
    "\n",
    "#     # 10 秒的 tick 数\n",
    "#     target_ticks = ticks_per_second * 10\n",
    "\n",
    "#     # 計算縮放因子\n",
    "#     scale_factor = target_ticks / total_ticks\n",
    "\n",
    "#     # 創建一個新的 MIDI 文件\n",
    "#     new_mid = mido.MidiFile()\n",
    "\n",
    "\n",
    "#     for track in mid.tracks:\n",
    "#         # 創建一個新的軌道\n",
    "#         new_track = mido.MidiTrack()\n",
    "\n",
    "#         for msg in track:\n",
    "#             # 調整消息的時間\n",
    "#             new_time = int(msg.time * scale_factor)\n",
    "#             new_msg = msg.copy(time=new_time)\n",
    "\n",
    "#             # 將消息添加到新軌道中\n",
    "#             new_track.append(new_msg)\n",
    "\n",
    "#         # 添加到新的 MIDI 文件中\n",
    "#         new_mid.tracks.append(new_track)\n",
    "\n",
    "#     # 保存新 MIDI 文件\n",
    "#     new_mid.save(output_file)\n",
    "\n",
    "\n",
    "# original_data_path = '/Users/rich/Desktop/AI-music/Datasets/Original Data/'\n",
    "# converted_data_folder = '/Users/rich/Desktop/AI-music/Datasets/Convert Data/'\n",
    "# if not os.path.exists(converted_data_folder):\n",
    "#     os.makedirs(converted_data_folder)\n",
    "\n",
    "\n",
    "# midi_file_paths = glob.glob(original_data_path + '*.mid')\n",
    "\n",
    "# for file_path in midi_file_paths:\n",
    "#     #這裡用try except是因為有些midi檔案有問題，會導致程式出錯\n",
    "#     try:\n",
    "#         input_file = file_path\n",
    "#         output_file = os.path.join(converted_data_folder, 'converted_' + os.path.basename(file_path))\n",
    "#         convert_to_10_seconds(input_file, output_file)\n",
    "\n",
    "#     except:\n",
    "#         pass"
   ]
  },
  {
   "cell_type": "code",
   "execution_count": 4,
   "metadata": {},
   "outputs": [],
   "source": [
    "# 隨機選取500個midi檔案\n",
    "# midi_file_paths = glob.glob('/Users/rich/Desktop/AI-music/Datasets/Convert Data/*.mid')\n",
    "# selected_file_paths = random.sample(midi_file_paths, 500)\n",
    "# # 儲存所有音符和力度\n",
    "# all_notes = []\n",
    "# all_velocities = []\n",
    "\n",
    "# for file_path in selected_file_paths:\n",
    "#     try:\n",
    "#         midi_data = pretty_midi.PrettyMIDI(file_path)\n",
    "#         notes = []\n",
    "#         velocities = []\n",
    "\n",
    "#         # 每個樂器有多個音符\n",
    "#         # 每個音符有兩個屬性：音高和力度，當然還可以提取提他例如節拍、和弦\n",
    "#         for instrument in midi_data.instruments:\n",
    "#             for note in instrument.notes:\n",
    "#                 notes.append(note.pitch)\n",
    "#                 velocities.append(note.velocity)\n",
    "\n",
    "#         all_notes.extend(notes)\n",
    "#         all_velocities.extend(velocities)\n",
    "\n",
    "#     except:\n",
    "#         pass\n",
    "\n",
    "# notes_array = np.array(all_notes)\n",
    "# velocities_array = np.array(all_velocities)\n",
    "\n",
    "# np.save('notes_array.npy', notes_array)\n",
    "# np.save('velocities_array.npy', velocities_array)"
   ]
  },
  {
   "cell_type": "code",
   "execution_count": 5,
   "metadata": {},
   "outputs": [
    {
     "data": {
      "text/plain": [
       "(2599480, 2)"
      ]
     },
     "execution_count": 5,
     "metadata": {},
     "output_type": "execute_result"
    }
   ],
   "source": [
    "notes_array = np.load('notes_array.npy')\n",
    "velocities_array = np.load('velocities_array.npy')\n",
    "\n",
    "#normalize\n",
    "#帶來以下好處:\n",
    "#1. 處理不同尺度的數據\n",
    "#2. 加快模型收斂速度\n",
    "\n",
    "#change shape\n",
    "notes_normalized = notes_array.reshape(-1, 1) / int(notes_array.max())\n",
    "velocities_normalized = velocities_array.reshape(-1, 1) / float(velocities_array.max())\n",
    "\n",
    "# combine notes and velocities\n",
    "combined_data = np.concatenate((notes_normalized, velocities_normalized), axis=1)\n",
    "combined_data.shape"
   ]
  },
  {
   "cell_type": "code",
   "execution_count": 6,
   "metadata": {},
   "outputs": [],
   "source": [
    "sequence_length = 100\n",
    "inputs = []\n",
    "targets = []\n",
    "\n",
    "for i in range(len(combined_data) - sequence_length):\n",
    "    inputs.append(combined_data[i:i+sequence_length])\n",
    "    targets.append(combined_data[i+sequence_length])\n",
    "\n",
    "\n",
    "#split data\n",
    "split_index = int(0.8 * len(inputs)) \n",
    "\n",
    "train_inputs = np.array(inputs[:split_index])\n",
    "train_targets = np.array(targets[:split_index])\n",
    "\n",
    "test_inputs = np.array(inputs[split_index:])\n",
    "test_targets = np.array(targets[split_index:])"
   ]
  },
  {
   "cell_type": "code",
   "execution_count": 7,
   "metadata": {},
   "outputs": [
    {
     "data": {
      "text/plain": [
       "(2599380, 2599380)"
      ]
     },
     "execution_count": 7,
     "metadata": {},
     "output_type": "execute_result"
    }
   ],
   "source": [
    "len(inputs), len(targets)"
   ]
  },
  {
   "cell_type": "code",
   "execution_count": 8,
   "metadata": {},
   "outputs": [
    {
     "data": {
      "text/plain": [
       "((2079504, 100, 2), (2079504, 2), (519876, 100, 2), (519876, 2))"
      ]
     },
     "execution_count": 8,
     "metadata": {},
     "output_type": "execute_result"
    }
   ],
   "source": [
    "train_inputs.shape, train_targets.shape, test_inputs.shape, test_targets.shape"
   ]
  },
  {
   "cell_type": "code",
   "execution_count": 9,
   "metadata": {},
   "outputs": [
    {
     "name": "stdout",
     "output_type": "stream",
     "text": [
      "Model: \"sequential\"\n",
      "_________________________________________________________________\n",
      " Layer (type)                Output Shape              Param #   \n",
      "=================================================================\n",
      " lstm (LSTM)                 (None, 100, 256)          265216    \n",
      "                                                                 \n",
      " batch_normalization (BatchN  (None, 100, 256)         1024      \n",
      " ormalization)                                                   \n",
      "                                                                 \n",
      " lstm_1 (LSTM)               (None, 100, 128)          197120    \n",
      "                                                                 \n",
      " batch_normalization_1 (Batc  (None, 100, 128)         512       \n",
      " hNormalization)                                                 \n",
      "                                                                 \n",
      " lstm_2 (LSTM)               (None, 64)                49408     \n",
      "                                                                 \n",
      " batch_normalization_2 (Batc  (None, 64)               256       \n",
      " hNormalization)                                                 \n",
      "                                                                 \n",
      " dense (Dense)               (None, 32)                2080      \n",
      "                                                                 \n",
      " dense_1 (Dense)             (None, 2)                 66        \n",
      "                                                                 \n",
      "=================================================================\n",
      "Total params: 515,682\n",
      "Trainable params: 514,786\n",
      "Non-trainable params: 896\n",
      "_________________________________________________________________\n"
     ]
    }
   ],
   "source": [
    "from tensorflow.keras.layers import LSTM, Dense, BatchNormalization\n",
    "from tensorflow.keras.models import Sequential\n",
    "\n",
    "# BatchNormalization功用:\n",
    "# 1. 加速收斂速度，解決梯度爆炸or梯度消失問題\n",
    "# 2. 減少過擬合\n",
    "\n",
    "model = Sequential()\n",
    "model.add(LSTM(256, input_shape=(train_inputs.shape[1], train_inputs.shape[2]), return_sequences=True))\n",
    "model.add(BatchNormalization())\n",
    "model.add(LSTM(128, return_sequences=True))\n",
    "model.add(BatchNormalization())\n",
    "model.add(LSTM(64))\n",
    "model.add(BatchNormalization())\n",
    "model.add(Dense(32))\n",
    "model.add(Dense(2))\n",
    "model.compile(loss='mse', optimizer='adam')\n",
    "\n",
    "model.summary()"
   ]
  },
  {
   "cell_type": "code",
   "execution_count": 10,
   "metadata": {},
   "outputs": [
    {
     "name": "stdout",
     "output_type": "stream",
     "text": [
      "Epoch 1/20\n"
     ]
    },
    {
     "name": "stderr",
     "output_type": "stream",
     "text": [
      "2023-06-23 01:38:08.145265: W tensorflow/tsl/platform/profile_utils/cpu_utils.cc:128] Failed to get CPU frequency: 0 Hz\n"
     ]
    },
    {
     "name": "stdout",
     "output_type": "stream",
     "text": [
      "16247/16247 [==============================] - 765s 47ms/step - loss: 0.0104 - val_loss: 0.1066\n",
      "Epoch 2/20\n",
      "16247/16247 [==============================] - 741s 46ms/step - loss: 0.0071 - val_loss: 0.0090\n",
      "Epoch 3/20\n",
      "16247/16247 [==============================] - 739s 46ms/step - loss: 0.0060 - val_loss: 0.0096\n",
      "Epoch 4/20\n",
      "16247/16247 [==============================] - 740s 46ms/step - loss: 0.0055 - val_loss: 0.0080\n",
      "Epoch 5/20\n",
      "16247/16247 [==============================] - 742s 46ms/step - loss: 0.0051 - val_loss: 0.0074\n",
      "Epoch 6/20\n",
      "16247/16247 [==============================] - 742s 46ms/step - loss: 0.0049 - val_loss: 0.0081\n",
      "Epoch 7/20\n",
      "16247/16247 [==============================] - 745s 46ms/step - loss: 0.0048 - val_loss: 0.0077\n",
      "Epoch 8/20\n",
      "16247/16247 [==============================] - 742s 46ms/step - loss: 0.0047 - val_loss: 0.0078\n",
      "Epoch 9/20\n",
      "16247/16247 [==============================] - 743s 46ms/step - loss: 0.0046 - val_loss: 0.0081\n",
      "Epoch 10/20\n",
      "16247/16247 [==============================] - 743s 46ms/step - loss: 0.0045 - val_loss: 0.0080\n",
      "Epoch 11/20\n",
      "16247/16247 [==============================] - 742s 46ms/step - loss: 0.0044 - val_loss: 0.0078\n",
      "Epoch 12/20\n",
      "16247/16247 [==============================] - 744s 46ms/step - loss: 0.0044 - val_loss: 0.0079\n",
      "Epoch 13/20\n",
      "16247/16247 [==============================] - 743s 46ms/step - loss: 0.0043 - val_loss: 0.0082\n",
      "Epoch 14/20\n",
      "16247/16247 [==============================] - 743s 46ms/step - loss: 0.0043 - val_loss: 0.0079\n",
      "Epoch 15/20\n",
      "16247/16247 [==============================] - 743s 46ms/step - loss: 0.0042 - val_loss: 0.0082\n",
      "Epoch 16/20\n",
      "16247/16247 [==============================] - 743s 46ms/step - loss: 0.0042 - val_loss: 0.0080\n",
      "Epoch 17/20\n",
      "16247/16247 [==============================] - 744s 46ms/step - loss: 0.0042 - val_loss: 0.0084\n",
      "Epoch 18/20\n",
      "16247/16247 [==============================] - 741s 46ms/step - loss: 0.0041 - val_loss: 0.0078\n",
      "Epoch 19/20\n",
      "16247/16247 [==============================] - 742s 46ms/step - loss: 0.0041 - val_loss: 0.0080\n",
      "Epoch 20/20\n",
      "16247/16247 [==============================] - 742s 46ms/step - loss: 0.0041 - val_loss: 0.0081\n"
     ]
    },
    {
     "name": "stderr",
     "output_type": "stream",
     "text": [
      "WARNING:absl:Found untraced functions such as lstm_cell_layer_call_fn, lstm_cell_layer_call_and_return_conditional_losses, lstm_cell_1_layer_call_fn, lstm_cell_1_layer_call_and_return_conditional_losses, lstm_cell_2_layer_call_fn while saving (showing 5 of 6). These functions will not be directly callable after loading.\n"
     ]
    },
    {
     "name": "stdout",
     "output_type": "stream",
     "text": [
      "INFO:tensorflow:Assets written to: model/assets\n"
     ]
    },
    {
     "name": "stderr",
     "output_type": "stream",
     "text": [
      "INFO:tensorflow:Assets written to: model/assets\n"
     ]
    }
   ],
   "source": [
    "history = model.fit(train_inputs, train_targets, epochs=20, batch_size=128, validation_data=(test_inputs, test_targets))\n",
    "model.save('model')"
   ]
  },
  {
   "cell_type": "code",
   "execution_count": 11,
   "metadata": {},
   "outputs": [
    {
     "data": {
      "image/png": "[encoded data removed]",
      "text/plain": [
       "<Figure size 640x480 with 1 Axes>"
      ]
     },
     "metadata": {},
     "output_type": "display_data"
    }
   ],
   "source": [
    "#plot loss\n",
    "import matplotlib.pyplot as plt\n",
    "\n",
    "plt.plot(history.history['loss'])\n",
    "plt.title('Model Loss')\n",
    "plt.ylabel('Loss')\n",
    "plt.xlabel('Epoch')\n",
    "plt.legend(['Train'], loc='upper left')\n",
    "plt.show()\n",
    "plt.savefig('loss.png')"
   ]
  },
  {
   "cell_type": "code",
   "execution_count": 12,
   "metadata": {},
   "outputs": [
    {
     "name": "stdout",
     "output_type": "stream",
     "text": [
      "1/1 [==============================] - 1s 593ms/step\n",
      "1/1 [==============================] - 0s 19ms/step\n",
      "1/1 [==============================] - 0s 16ms/step\n",
      "1/1 [==============================] - 0s 20ms/step\n",
      "1/1 [==============================] - 0s 19ms/step\n",
      "1/1 [==============================] - 0s 23ms/step\n",
      "1/1 [==============================] - 0s 18ms/step\n",
      "1/1 [==============================] - 0s 18ms/step\n",
      "1/1 [==============================] - 0s 17ms/step\n",
      "1/1 [==============================] - 0s 16ms/step\n",
      "1/1 [==============================] - 0s 18ms/step\n",
      "1/1 [==============================] - 0s 19ms/step\n",
      "1/1 [==============================] - 0s 18ms/step\n",
      "1/1 [==============================] - 0s 18ms/step\n",
      "1/1 [==============================] - 0s 17ms/step\n",
      "1/1 [==============================] - 0s 19ms/step\n",
      "1/1 [==============================] - 0s 19ms/step\n",
      "1/1 [==============================] - 0s 18ms/step\n",
      "1/1 [==============================] - 0s 17ms/step\n",
      "1/1 [==============================] - 0s 17ms/step\n",
      "1/1 [==============================] - 0s 17ms/step\n",
      "1/1 [==============================] - 0s 18ms/step\n",
      "1/1 [==============================] - 0s 18ms/step\n",
      "1/1 [==============================] - 0s 17ms/step\n",
      "1/1 [==============================] - 0s 17ms/step\n",
      "1/1 [==============================] - 0s 17ms/step\n",
      "1/1 [==============================] - 0s 18ms/step\n",
      "1/1 [==============================] - 0s 17ms/step\n",
      "1/1 [==============================] - 0s 17ms/step\n",
      "1/1 [==============================] - 0s 17ms/step\n",
      "1/1 [==============================] - 0s 17ms/step\n",
      "1/1 [==============================] - 0s 17ms/step\n",
      "1/1 [==============================] - 0s 17ms/step\n",
      "1/1 [==============================] - 0s 17ms/step\n",
      "1/1 [==============================] - 0s 17ms/step\n",
      "1/1 [==============================] - 0s 17ms/step\n",
      "1/1 [==============================] - 0s 17ms/step\n",
      "1/1 [==============================] - 0s 18ms/step\n",
      "1/1 [==============================] - 0s 17ms/step\n",
      "1/1 [==============================] - 0s 16ms/step\n",
      "1/1 [==============================] - 0s 16ms/step\n",
      "1/1 [==============================] - 0s 17ms/step\n",
      "1/1 [==============================] - 0s 17ms/step\n",
      "1/1 [==============================] - 0s 17ms/step\n",
      "1/1 [==============================] - 0s 17ms/step\n",
      "1/1 [==============================] - 0s 20ms/step\n",
      "1/1 [==============================] - 0s 17ms/step\n",
      "1/1 [==============================] - 0s 17ms/step\n",
      "1/1 [==============================] - 0s 17ms/step\n",
      "1/1 [==============================] - 0s 17ms/step\n",
      "1/1 [==============================] - 0s 17ms/step\n",
      "1/1 [==============================] - 0s 17ms/step\n",
      "1/1 [==============================] - 0s 17ms/step\n",
      "1/1 [==============================] - 0s 17ms/step\n",
      "1/1 [==============================] - 0s 19ms/step\n",
      "1/1 [==============================] - 0s 17ms/step\n",
      "1/1 [==============================] - 0s 18ms/step\n",
      "1/1 [==============================] - 0s 17ms/step\n",
      "1/1 [==============================] - 0s 17ms/step\n",
      "1/1 [==============================] - 0s 17ms/step\n",
      "1/1 [==============================] - 0s 17ms/step\n",
      "1/1 [==============================] - 0s 18ms/step\n",
      "1/1 [==============================] - 0s 17ms/step\n",
      "1/1 [==============================] - 0s 18ms/step\n",
      "1/1 [==============================] - 0s 17ms/step\n",
      "1/1 [==============================] - 0s 18ms/step\n",
      "1/1 [==============================] - 0s 18ms/step\n",
      "1/1 [==============================] - 0s 18ms/step\n",
      "1/1 [==============================] - 0s 17ms/step\n",
      "1/1 [==============================] - 0s 17ms/step\n",
      "1/1 [==============================] - 0s 18ms/step\n",
      "1/1 [==============================] - 0s 17ms/step\n",
      "1/1 [==============================] - 0s 17ms/step\n",
      "1/1 [==============================] - 0s 17ms/step\n",
      "1/1 [==============================] - 0s 17ms/step\n",
      "1/1 [==============================] - 0s 17ms/step\n",
      "1/1 [==============================] - 0s 17ms/step\n",
      "1/1 [==============================] - 0s 19ms/step\n",
      "1/1 [==============================] - 0s 17ms/step\n",
      "1/1 [==============================] - 0s 16ms/step\n",
      "1/1 [==============================] - 0s 17ms/step\n",
      "1/1 [==============================] - 0s 17ms/step\n",
      "1/1 [==============================] - 0s 17ms/step\n",
      "1/1 [==============================] - 0s 16ms/step\n",
      "1/1 [==============================] - 0s 17ms/step\n",
      "1/1 [==============================] - 0s 17ms/step\n",
      "1/1 [==============================] - 0s 17ms/step\n",
      "1/1 [==============================] - 0s 16ms/step\n",
      "1/1 [==============================] - 0s 17ms/step\n",
      "1/1 [==============================] - 0s 18ms/step\n",
      "1/1 [==============================] - 0s 18ms/step\n",
      "1/1 [==============================] - 0s 17ms/step\n",
      "1/1 [==============================] - 0s 17ms/step\n",
      "1/1 [==============================] - 0s 19ms/step\n",
      "1/1 [==============================] - 0s 17ms/step\n",
      "1/1 [==============================] - 0s 18ms/step\n",
      "1/1 [==============================] - 0s 17ms/step\n",
      "1/1 [==============================] - 0s 17ms/step\n",
      "1/1 [==============================] - 0s 17ms/step\n",
      "1/1 [==============================] - 0s 17ms/step\n"
     ]
    }
   ],
   "source": [
    "generated_notes = []\n",
    "generated_velocities = []\n",
    "\n",
    "start_index = np.random.randint(0, len(test_inputs)-1)\n",
    "input_sequence = test_inputs[start_index]\n",
    "sequence_length = 100\n",
    "\n",
    "for _ in range(sequence_length):\n",
    "    predicted = model.predict(np.expand_dims(input_sequence, axis=0))\n",
    "    predicted_note = predicted[0][0]  # 預測的音高\n",
    "    predicted_velocity = predicted[0][1]  # 預測的速率\n",
    "    \n",
    "    generated_notes.append(predicted_note)\n",
    "    generated_velocities.append(predicted_velocity)\n",
    "    \n",
    "    input_sequence = np.concatenate((input_sequence[1:], np.expand_dims(predicted[0], axis=0)))\n",
    "\n",
    "generated_notes = notes_array.max() * generated_notes\n",
    "generated_velocities = velocities_array.max() * generated_velocities\n",
    "\n",
    "# 將音高和速率合併\n",
    "generated_sequence = np.column_stack((generated_notes, generated_velocities))\n",
    "\n"
   ]
  },
  {
   "cell_type": "code",
   "execution_count": 13,
   "metadata": {},
   "outputs": [
    {
     "data": {
      "text/plain": [
       "'/Users/rich/Desktop/AI-music-main/generated_music.mid'"
      ]
     },
     "execution_count": 13,
     "metadata": {},
     "output_type": "execute_result"
    }
   ],
   "source": [
    "#convert to midi\n",
    "from music21 import stream, note, tempo\n",
    "\n",
    "music_stream = stream.Stream()\n",
    "#設置一個速度\n",
    "default_tempo = tempo.MetronomeMark(number=100)\n",
    "\n",
    "#提取音高還有持續時間\n",
    "for sequence in generated_sequence:\n",
    "    pitch = int(sequence[0])  \n",
    "    duration = int(sequence[1])  \n",
    "\n",
    "    n = note.Note()\n",
    "    n.pitch.midi = pitch\n",
    "    n.duration.quarterLength = duration\n",
    "\n",
    "    music_stream.append(n)\n",
    "\n",
    "music_stream.insert(0, default_tempo)\n",
    "\n",
    "output_folder = '/Users/rich/Desktop/AI-music-main/'\n",
    "if not os.path.exists(output_folder):\n",
    "    os.makedirs(output_folder)\n",
    "\n",
    "midi_filename = \"generated_music.mid\"\n",
    "output_path = os.path.join(output_folder, midi_filename)\n",
    "\n",
    "music_stream.write(\"midi\", fp=output_path)"
   ]
  },
  {
   "attachments": {},
   "cell_type": "markdown",
   "metadata": {},
   "source": [
    "輸出有待修正\n",
    "#### 音色過於單調\n",
    "#### 同個音符一直重複\n",
    "#### 聽不出是哪個樂器的聲音"
   ]
  }
 ],
 "metadata": {
  "kernelspec": {
   "display_name": "tensorflow",
   "language": "python",
   "name": "python3"
  },
  "language_info": {
   "codemirror_mode": {
    "name": "ipython",
    "version": 3
   },
   "file_extension": ".py",
   "mimetype": "text/x-python",
   "name": "python",
   "nbconvert_exporter": "python",
   "pygments_lexer": "ipython3",
   "version": "3.11.3"
  }
 },
 "nbformat": 4,
 "nbformat_minor": 2
}
